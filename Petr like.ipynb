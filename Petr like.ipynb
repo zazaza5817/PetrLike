{
 "cells": [
  {
   "cell_type": "code",
   "execution_count": 8,
   "id": "6edb1304",
   "metadata": {},
   "outputs": [],
   "source": [
    "# https://myprepod.ru/personInitPoll.php"
   ]
  },
  {
   "cell_type": "code",
   "execution_count": 9,
   "id": "7afb67fd",
   "metadata": {},
   "outputs": [],
   "source": [
    "import json\n",
    "import requests\n",
    "import time\n",
    "import threading\n",
    "import queue"
   ]
  },
  {
   "cell_type": "code",
   "execution_count": 10,
   "id": "1f72c27c",
   "metadata": {},
   "outputs": [],
   "source": [
    "def send_poll(prox, max_attempts):\n",
    "    attempts = 0\n",
    "    while attempts < max_attempts - 5:\n",
    "        try:\n",
    "            r = requests.post(\"https://myprepod.ru/personInitPoll.php\", data={\"tid\": 1817}, proxies=prox, timeout=10)\n",
    "            return r.status_code\n",
    "        except Exception as e:\n",
    "            time.sleep(1)\n",
    "            attempts += 1\n",
    "    return False"
   ]
  },
  {
   "cell_type": "code",
   "execution_count": 11,
   "id": "94f9e83d",
   "metadata": {},
   "outputs": [],
   "source": [
    "def send_mark(prox, max_attempts):\n",
    "    global complete_counter\n",
    "    header = {\"Cookie\": \"__CLT=F5Tszc32WIvNXYYI%3Alhji6gkr; _ym_uid=1683832138848184485; _ym_d=1683832138; _gid=GA1.2.1358742379.1683832138; _ym_isad=2; _ym_visorc=w; _gat_gtag_UA_119760747_1=1; _ga_LFW4ER603Q=GS1.1.1683832137.1.1.1683833276.0.0.0; _ga=GA1.1.593724198.1683832138\"}\n",
    "    attempts = 0\n",
    "    while attempts < max_attempts:\n",
    "        try:\n",
    "            r = requests.post('https://myprepod.ru/personSubmitMark.php', data={\"tid\": 1817, \"mark\": 5}, proxies=prox, headers = header, timeout=30)\n",
    "            if json.loads(r.text)['status'] == ('200' or 200):\n",
    "                complete_counter += 1\n",
    "                print(\"(send mark) {}, current avg: {}\".format(complete_counter, json.loads(r.text)['data']['avg']))\n",
    "            return json.loads(r.text)['status']\n",
    "        except Exception as e:\n",
    "            time.sleep(1)\n",
    "            attempts += 1\n",
    "    return False"
   ]
  },
  {
   "cell_type": "code",
   "execution_count": 12,
   "id": "67362b3f",
   "metadata": {},
   "outputs": [],
   "source": [
    "proxy = []\n",
    "with open(\"proxy.txt\") as f:\n",
    "    for i in f.readlines():\n",
    "        i = i.strip()\n",
    "        proxy.append({\n",
    "            \"http\": 'socks5://' + i,\n",
    "            \"https\": 'socks5://' + i\n",
    "        })"
   ]
  },
  {
   "cell_type": "code",
   "execution_count": 13,
   "id": "2bdf3fd4",
   "metadata": {},
   "outputs": [],
   "source": [
    "#LOAD\n",
    "with open('data/marked.json') as file:\n",
    "    marked = json.load(file)\n",
    "with open('data/not_marked.json') as file:\n",
    "    not_marked = json.load(file)\n",
    "with open('data/err_proxy.json') as file:\n",
    "    err_proxy = json.load(file)"
   ]
  },
  {
   "cell_type": "code",
   "execution_count": 14,
   "id": "c282e800",
   "metadata": {},
   "outputs": [
    {
     "name": "stdout",
     "output_type": "stream",
     "text": [
      "27710\n",
      "9036\n",
      "5803\n"
     ]
    }
   ],
   "source": [
    "q = queue.Queue()\n",
    "clean_proxy = []\n",
    "print(len(proxy))\n",
    "for i in proxy:\n",
    "    if i not in clean_proxy:\n",
    "        clean_proxy.append(i)\n",
    "proxy = clean_proxy\n",
    "print(len(proxy))\n",
    "a = err_proxy + marked + not_marked\n",
    "for item in proxy:\n",
    "    if item not in a:\n",
    "        q.put(item)\n",
    "print(q.qsize())"
   ]
  },
  {
   "cell_type": "code",
   "execution_count": 15,
   "id": "135e5512",
   "metadata": {},
   "outputs": [],
   "source": [
    "#DUMP\n",
    "def dump():\n",
    "    global marked\n",
    "    global not_marked\n",
    "    global err_proxy\n",
    "    with open('data/marked.json', 'w') as outfile:\n",
    "        json.dump(marked, outfile, indent=4)\n",
    "    with open('data/not_marked.json', 'w') as outfile:\n",
    "        json.dump(not_marked, outfile, indent=4)\n",
    "    with open('data/err_proxy.json', 'w') as outfile:\n",
    "        json.dump(err_proxy, outfile, indent=4)"
   ]
  },
  {
   "cell_type": "code",
   "execution_count": 16,
   "id": "dafdc48d",
   "metadata": {},
   "outputs": [],
   "source": [
    "def main():\n",
    "    global q\n",
    "    global complete_counter \n",
    "    max_attempts = 20\n",
    "    while not q.empty():\n",
    "        item = q.get()\n",
    "        if int(q.qsize()) % 10 == 0:\n",
    "            dump() # saving\n",
    "        poll_status = send_poll(item, max_attempts)\n",
    "        if poll_status:\n",
    "            mark_status = send_mark(item, max_attempts)\n",
    "            if mark_status:\n",
    "                marked.append(item)\n",
    "            else:\n",
    "                not_marked.append(item)\n",
    "        else:\n",
    "            err_proxy.append(item)\n",
    "    print(\"Thread finished\")"
   ]
  },
  {
   "cell_type": "code",
   "execution_count": 17,
   "id": "a6e022d1",
   "metadata": {},
   "outputs": [],
   "source": [
    "complete_counter = 0\n",
    "for _ in range(50):\n",
    "    threading.Thread(target=main).start()"
   ]
  },
  {
   "cell_type": "code",
   "execution_count": null,
   "id": "80db18df",
   "metadata": {},
   "outputs": [],
   "source": [
    "dump()"
   ]
  },
  {
   "cell_type": "code",
   "execution_count": 35,
   "id": "71d40987",
   "metadata": {},
   "outputs": [
    {
     "data": {
      "text/plain": [
       "953"
      ]
     },
     "execution_count": 35,
     "metadata": {},
     "output_type": "execute_result"
    },
    {
     "name": "stdout",
     "output_type": "stream",
     "text": [
      "Thread finishedThread finished\n",
      "Thread finished\n",
      "Thread finished\n",
      "\n",
      "Thread finished\n",
      "Thread finished\n",
      "Thread finished\n",
      "Thread finished\n",
      "Thread finished\n",
      "Thread finished\n",
      "Thread finished\n",
      "Thread finished\n",
      "Thread finished\n",
      "Thread finished\n",
      "Thread finished\n",
      "Thread finished\n",
      "Thread finished\n",
      "Thread finished\n",
      "Thread finished\n",
      "Thread finished\n",
      "Thread finished\n",
      "Thread finished\n",
      "Thread finished\n",
      "Thread finished\n",
      "Thread finished\n",
      "Thread finished\n",
      "Thread finished\n",
      "Thread finished\n",
      "Thread finished\n",
      "Thread finished\n",
      "Thread finished\n",
      "Thread finished\n",
      "Thread finished\n",
      "Thread finished\n",
      "Thread finished\n",
      "Thread finished\n",
      "Thread finished\n",
      "Thread finished\n",
      "Thread finished\n",
      "Thread finished\n",
      "Thread finished\n",
      "Thread finished\n",
      "Thread finished\n",
      "Thread finished\n",
      "Thread finished\n",
      "Thread finished\n",
      "Thread finished\n",
      "Thread finished\n",
      "Thread finished\n",
      "Thread finished\n"
     ]
    }
   ],
   "source": [
    "q.qsize()"
   ]
  }
 ],
 "metadata": {
  "kernelspec": {
   "display_name": "Python 3 (ipykernel)",
   "language": "python",
   "name": "python3"
  },
  "language_info": {
   "codemirror_mode": {
    "name": "ipython",
    "version": 3
   },
   "file_extension": ".py",
   "mimetype": "text/x-python",
   "name": "python",
   "nbconvert_exporter": "python",
   "pygments_lexer": "ipython3",
   "version": "3.11.5"
  }
 },
 "nbformat": 4,
 "nbformat_minor": 5
}
